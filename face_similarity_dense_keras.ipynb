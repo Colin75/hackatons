{
  "nbformat": 4,
  "nbformat_minor": 0,
  "metadata": {
    "colab": {
      "name": "face_similarity_dense_keras.ipynb",
      "version": "0.3.2",
      "provenance": []
    },
    "kernelspec": {
      "name": "python3",
      "display_name": "Python 3"
    },
    "accelerator": "GPU"
  },
  "cells": [
    {
      "metadata": {
        "id": "cdnhgXIoMRr2",
        "colab_type": "text"
      },
      "cell_type": "markdown",
      "source": [
        "### Source"
      ]
    },
    {
      "metadata": {
        "id": "E4kG3KGmMZ8G",
        "colab_type": "text"
      },
      "cell_type": "markdown",
      "source": [
        "[1] Yann LeCun, Leon BottouGenevieve, B. Orr & KlausRobert Müller. (2002). *Efficient BackProp*. Springer  \n",
        "[2] Keras documentation : https://keras.io/getting-started/functional-api-guide/"
      ]
    },
    {
      "metadata": {
        "id": "1LnRKv8oMW31",
        "colab_type": "text"
      },
      "cell_type": "markdown",
      "source": [
        "### Importation des librairies et données "
      ]
    },
    {
      "metadata": {
        "id": "x1kn6s-Kx9bU",
        "colab_type": "code",
        "outputId": "b74f09b1-5442-4bd6-af99-de7ba2a61cf7",
        "colab": {
          "base_uri": "https://localhost:8080/",
          "height": 34
        }
      },
      "cell_type": "code",
      "source": [
        "%matplotlib inline\n",
        "import numpy as np\n",
        "import pandas as pd\n",
        "import matplotlib.pyplot as plt\n",
        "import os\n",
        "import itertools\n",
        "\n",
        "from sklearn.externals import joblib\n",
        "from sklearn.preprocessing import StandardScaler\n",
        "from sklearn.model_selection import StratifiedShuffleSplit\n",
        "\n",
        "# Keras : couche haut niveau pour réseau de neuronne (backend : Tensorflow)\n",
        "from keras.models import Sequential\n",
        "from keras.layers import Dense, Dropout\n",
        "from keras.utils.vis_utils import model_to_dot\n",
        "\n",
        "# Pour l'affichage du RNN\n",
        "from IPython.display import SVG\n",
        "\n",
        "#Seed fixé pour la reproductibilité\n",
        "seed = 2"
      ],
      "execution_count": 0,
      "outputs": [
        {
          "output_type": "stream",
          "text": [
            "Using TensorFlow backend.\n"
          ],
          "name": "stderr"
        }
      ]
    },
    {
      "metadata": {
        "id": "UySxoEMCMxOC",
        "colab_type": "code",
        "colab": {}
      },
      "cell_type": "code",
      "source": [
        "# Chargement des jeux de données\n",
        "xtrain = pd.read_csv('***')\n",
        "ytrain =  pd.read_csv('***')\n",
        "xtest = pd.read_csv('***')"
      ],
      "execution_count": 0,
      "outputs": []
    },
    {
      "metadata": {
        "id": "nZHy3yQWMpaq",
        "colab_type": "text"
      },
      "cell_type": "markdown",
      "source": [
        "### Exploration des données\n",
        "\n",
        "#### Description \n",
        "\n",
        "D'après l'énoncé :\n",
        "\n",
        "    colonnes 1-14 - 14 qualité de l'image A;\n",
        "    colonnes 15-28 - 14 qualité de l'image B;\n",
        "    colonnes 29-36 - 8 scores de proximité entre les images A et B.\n",
        "\n",
        "Ainsi, les données d'entrée sont séparées en selon les 3 vecteurs ci-dessus afin de pouvoir comparer indépendamment les images A et B."
      ]
    },
    {
      "metadata": {
        "id": "aZRK81NpM5lD",
        "colab_type": "code",
        "colab": {}
      },
      "cell_type": "code",
      "source": [
        "# Jeu d'apprentissage\n",
        "imageA_train = xtrain.iloc[:,:14]\n",
        "imageB_train = xtrain.iloc[:,14:28]\n",
        "matching_train = xtrain.iloc[:,28:]\n",
        "\n",
        "# Jeu de test\n",
        "imageA_test = xtest.iloc[:,:14]\n",
        "imageB_test = xtest.iloc[:,14:28]\n",
        "matching_test = xtest.iloc[:,28:]"
      ],
      "execution_count": 0,
      "outputs": []
    },
    {
      "metadata": {
        "id": "ktW1rbasM7Iq",
        "colab_type": "text"
      },
      "cell_type": "markdown",
      "source": [
        "#### Taille du jeu de données"
      ]
    },
    {
      "metadata": {
        "id": "kG-RxfVcM9fG",
        "colab_type": "code",
        "outputId": "4da926dd-05e3-41ea-d48a-f3e653ceb654",
        "colab": {
          "base_uri": "https://localhost:8080/",
          "height": 86
        }
      },
      "cell_type": "code",
      "source": [
        "print(f'Nombre d\\'observation : {xtrain.shape[0]}\\n'\n",
        "      f'Nombre de variables : \\n Images A = images B : {imageA_train.shape[1]}\\n \\\n",
        "Fusion de A et B : {matching_train.shape[1]}')"
      ],
      "execution_count": 0,
      "outputs": [
        {
          "output_type": "stream",
          "text": [
            "Nombre d'observation : 3196465\n",
            "Nombre de variables : \n",
            " Images A = images B : 14\n",
            " Fusion de A et B : 8\n"
          ],
          "name": "stdout"
        }
      ]
    },
    {
      "metadata": {
        "id": "JP9QZXTRNBFK",
        "colab_type": "code",
        "outputId": "4cdc9c9d-ce0f-4dca-9e71-c78ec38c3605",
        "colab": {
          "base_uri": "https://localhost:8080/",
          "height": 265
        }
      },
      "cell_type": "code",
      "source": [
        "plt.figure()\n",
        "plt.hist(ytrain.values, bins=2)\n",
        "plt.show()"
      ],
      "execution_count": 0,
      "outputs": [
        {
          "output_type": "display_data",
          "data": {
            "image/png": "[encoded data removed]",
            "text/plain": [
              "<Figure size 432x288 with 1 Axes>"
            ]
          },
          "metadata": {
            "tags": []
          }
        }
      ]
    },
    {
      "metadata": {
        "id": "sNqf6ZXUNBRc",
        "colab_type": "code",
        "outputId": "d057cbfb-2d08-4f07-bf1f-e7c7ff8c9ec6",
        "colab": {
          "base_uri": "https://localhost:8080/",
          "height": 34
        }
      },
      "cell_type": "code",
      "source": [
        "print(f'Il y a environ : {(ytrain[ytrain==1].count()/ytrain.count()).values[0]*100:.0f}% \\\n",
        "de class 1 = \\\"visages simliaires\\\" dans le jeu d\\'apprentissage.')"
      ],
      "execution_count": 0,
      "outputs": [
        {
          "output_type": "stream",
          "text": [
            "Il y a environ : 29% de class 1 = \"visages simliaires\" dans le jeu d'apprentissage.\n"
          ],
          "name": "stdout"
        }
      ]
    },
    {
      "metadata": {
        "id": "GtmKHfFjNFEd",
        "colab_type": "text"
      },
      "cell_type": "markdown",
      "source": [
        "Un estimateur qui prédirait toujours 0 aurait une précision de 0.7 environ."
      ]
    },
    {
      "metadata": {
        "id": "FUXAQ1BeNKCO",
        "colab_type": "text"
      },
      "cell_type": "markdown",
      "source": [
        "#### Analyse de la banque d'image"
      ]
    },
    {
      "metadata": {
        "id": "95fzXAnSNNx6",
        "colab_type": "text"
      },
      "cell_type": "markdown",
      "source": [
        "Une fois la séparation entre image A et B, on observe le nombre d'image unique dans le jeu d'apprentissage et dans le jeu d'apprentissage + jeu de test."
      ]
    },
    {
      "metadata": {
        "id": "XIfPxAfMNbX8",
        "colab_type": "code",
        "colab": {}
      },
      "cell_type": "code",
      "source": [
        "unique_train = pd.concat([imageA_train, imageB_train]).drop_duplicates().shape\n",
        "# = (143709, 28) \n",
        "unique_train_test_B = pd.concat([imageA_train, imageB_train, imageB_test]).drop_duplicates().shape\n",
        "# = (143753, 28)\n",
        "unique_train_test_A = pd.concat([imageA_train, imageB_train, imageA_test]).drop_duplicates().shape\n",
        "# = (143719, 28)"
      ],
      "execution_count": 0,
      "outputs": []
    },
    {
      "metadata": {
        "id": "orGl_MNiNbdE",
        "colab_type": "code",
        "outputId": "edc6d1c7-9002-488a-b7e3-1ffa08ec45ea",
        "colab": {
          "base_uri": "https://localhost:8080/",
          "height": 69
        }
      },
      "cell_type": "code",
      "source": [
        "print('Images uniques dans le jeu d\\'apprentissage : ', unique_train[0])\n",
        "print('Images uniques dans le jeu d\\'apprentissage + test : ', \\\n",
        "      (unique_train_test_B[0] + unique_train_test_A[0] - unique_train[0]))\n",
        "print('Images supplémentaires dasn le jeu d\\'apprentissage : ', \\\n",
        "      (unique_train_test_B[0] + unique_train_test_A[0] - 2*unique_train[0]))"
      ],
      "execution_count": 0,
      "outputs": [
        {
          "output_type": "stream",
          "text": [
            "Images uniques dans le jeu d'apprentissage :  143709\n",
            "Images uniques dans le jeu d'apprentissage + test :  143763\n",
            "Images supplémentaires dasn le jeu d'apprentissage :  54\n"
          ],
          "name": "stdout"
        }
      ]
    },
    {
      "metadata": {
        "id": "e_eSmjH9NmgS",
        "colab_type": "text"
      },
      "cell_type": "markdown",
      "source": [
        "Comparé au nombre d'observations, 3196465, il n'y a seulement que 143709 observations différentes dans le jeu d'apprentissage, soit un ratio de 5%; et seulement 54 en plus dans le jeu de test.  \n",
        "Cette information nous indique que beaucoup de couple image A/B sont créés à partir des mêmes images, notre modèle ne sera probablement pas généralisable à d'autres images. Ainsi l'objectif est bien ici de déterminer si **deux visages, précédemment associées à d'autre visages, sont équivalents**.  \n",
        "\n",
        "Le jeu de test est construit en conséquence : seul 54 images supplémentaires y sont incluses. Il n'est donc pas demandé d'avoir un modèle qui se généraliserait à d'autres images, mais bien de pouvoir identifier de nouveaux couples."
      ]
    },
    {
      "metadata": {
        "id": "TDhOjuTHNrfk",
        "colab_type": "text"
      },
      "cell_type": "markdown",
      "source": [
        "#### Est-ce que 2 images ont toujours le même vecteur de proximité ?"
      ]
    },
    {
      "metadata": {
        "id": "mSCFjguvODft",
        "colab_type": "text"
      },
      "cell_type": "markdown",
      "source": [
        "1. Dans un premier temps on détecte les lignes équivalentes dans \"matching_train\". => 439451 lignes équivalentes\n",
        "2. Puis on isole une ligne en particulier identifiée à l'étape 1.\n",
        "3. On affiche les lignes avec la même valeur de \"matching\" et n vérifie que image A = image B et image B = image A"
      ]
    },
    {
      "metadata": {
        "id": "WMfrFSUcNbPn",
        "colab_type": "code",
        "outputId": "d391748d-fcf7-41e1-dc28-6993f7e13e72",
        "colab": {
          "base_uri": "https://localhost:8080/",
          "height": 34
        }
      },
      "cell_type": "code",
      "source": [
        "xtrain[matching_train.duplicated()].head(10)\n",
        "print('Nombre de lignes dupliquées : ', xtrain[matching_train.duplicated()].count()[0])"
      ],
      "execution_count": 0,
      "outputs": [
        {
          "output_type": "stream",
          "text": [
            "Nombre de lignes dupliquées :  439451\n"
          ],
          "name": "stdout"
        }
      ]
    },
    {
      "metadata": {
        "id": "XNKeBlL4OJhq",
        "colab_type": "code",
        "colab": {}
      },
      "cell_type": "code",
      "source": [
        "# Création d'un masque pour identifier les lignes équivalente à la 5246\n",
        "mask = (matching_train == matching_train.iloc[5246,:].values).iloc[:,0]\n",
        "unique_matching = xtrain[mask][:2]"
      ],
      "execution_count": 0,
      "outputs": []
    },
    {
      "metadata": {
        "id": "VB8NlzKBOJpE",
        "colab_type": "code",
        "outputId": "e13bed47-04d4-46fc-dbc9-abd2f3d95986",
        "colab": {
          "base_uri": "https://localhost:8080/",
          "height": 69
        }
      },
      "cell_type": "code",
      "source": [
        "print('Les 2 images sont-elles identiques ? ')\n",
        "print('image A = image B :', np.all(unique_matching.iloc[0,:14].values == unique_matching.iloc[1,14:28]))\n",
        "print('image B = image A :', np.all(unique_matching.iloc[1,:14].values == unique_matching.iloc[0,14:28]))"
      ],
      "execution_count": 0,
      "outputs": [
        {
          "output_type": "stream",
          "text": [
            "Les 2 images sont-elles identiques ? \n",
            "image A = image B : True\n",
            "image B = image A : True\n"
          ],
          "name": "stdout"
        }
      ]
    },
    {
      "metadata": {
        "id": "Dg1POxz_OO5C",
        "colab_type": "text"
      },
      "cell_type": "markdown",
      "source": [
        "En conclusion:\n",
        "- Notre modèle doit apprendre à identifier les similarité d'images à partir de l'exhaustivité des pairs\n",
        "- Pour deux images A et B données, leur vecteur de proximité est équvialent quelque soit l'ordre de concatenation dans la construction des observations."
      ]
    },
    {
      "metadata": {
        "id": "NAXM5A9JOXvr",
        "colab_type": "text"
      },
      "cell_type": "markdown",
      "source": [
        "#### Augmentation du jeu de données\n",
        "\n",
        "Il est donc possible d'augmenter le jeu d'apprentissage en ajoutant des nouvelles pairs en inversant image A et image B.  La classification et le vecteur de proximité reset inchangé.  \n",
        "Comme vu précédemment, il y a déjà des lignes dupliquées avec image A et image B inversées, il convient donc de supprimer les lignes dupliquées avec l'opération précédente pour ne pas créer de doublons."
      ]
    },
    {
      "metadata": {
        "id": "novQhl5GOJy-",
        "colab_type": "code",
        "outputId": "51783e50-d630-43f9-f7fa-d814e1dbb3e1",
        "colab": {
          "base_uri": "https://localhost:8080/",
          "height": 34
        }
      },
      "cell_type": "code",
      "source": [
        "size_init = xtrain.shape[0]\n",
        "print('Taille du jeu de données initial : ', xtrain.shape[0])"
      ],
      "execution_count": 0,
      "outputs": [
        {
          "output_type": "stream",
          "text": [
            "Taille du jeu de données initial :  3196465\n"
          ],
          "name": "stdout"
        }
      ]
    },
    {
      "metadata": {
        "id": "PhqyNsJJOaVj",
        "colab_type": "code",
        "colab": {}
      },
      "cell_type": "code",
      "source": [
        "idx_A = ['fA1', 'fA2', 'fA3', 'fA4', 'fA5', 'fA6', 'fA7', 'fA8', 'fA9', 'fA10', 'fA11', 'fA12', 'fA13', 'fA14']\n",
        "idx_B = ['fB1', 'fB2', 'fB3', 'fB4', 'fB5', 'fB6', 'fB7', 'fB8', 'fB9','fB10', 'fB11', 'fB12', 'fB13', 'fB14']\n",
        "\n",
        "imageB_train.columns = idx_A\n",
        "imageA_train.columns = idx_B\n",
        "\n",
        "inverse_paired = pd.concat([imageB_train, imageA_train, matching_train], axis=1)"
      ],
      "execution_count": 0,
      "outputs": []
    },
    {
      "metadata": {
        "id": "DXf2ZlPdOaaL",
        "colab_type": "code",
        "colab": {}
      },
      "cell_type": "code",
      "source": [
        "xtrain =  pd.concat([xtrain, inverse_paired], axis=0)\n",
        "xtrain.reset_index(inplace=True, drop=True)\n",
        "xtrain.drop_duplicates(inplace=True)\n",
        "\n",
        "ytrain = pd.concat([ytrain,ytrain], axis=0)\n",
        "ytrain = ytrain.iloc[xtrain.index]"
      ],
      "execution_count": 0,
      "outputs": []
    },
    {
      "metadata": {
        "id": "npkwMc01Oaef",
        "colab_type": "code",
        "outputId": "0c2412b9-48a5-41f8-d8f7-de5c94cffc07",
        "colab": {
          "base_uri": "https://localhost:8080/",
          "height": 34
        }
      },
      "cell_type": "code",
      "source": [
        "size_init = xtrain.shape[0]\n",
        "print('Taille du jeu de données augmenté : ', xtrain.shape[0])"
      ],
      "execution_count": 0,
      "outputs": [
        {
          "output_type": "stream",
          "text": [
            "Taille du jeu de données augmenté :  5514026\n"
          ],
          "name": "stdout"
        }
      ]
    },
    {
      "metadata": {
        "id": "qYUxtsovOylz",
        "colab_type": "text"
      },
      "cell_type": "markdown",
      "source": [
        "### Transformation des variables"
      ]
    },
    {
      "metadata": {
        "id": "WJkwz1D5O0-j",
        "colab_type": "text"
      },
      "cell_type": "markdown",
      "source": [
        "#### Standardisation des données\n",
        "\n",
        "D'après la source [1], il est primordial de centrer réduire les données dans le cadre de l'exploitation d'un réseau de neurone.  \n",
        "A noter : Pour éviter de capter des informations du jeu de test (variance / moyenne), le calibrage se fait uniquement sur le jeu d'apprentissage."
      ]
    },
    {
      "metadata": {
        "id": "sDpA2Z9uO32e",
        "colab_type": "code",
        "outputId": "a834a699-37e8-45c5-d296-8ebee5ea5da8",
        "colab": {
          "base_uri": "https://localhost:8080/",
          "height": 141
        }
      },
      "cell_type": "code",
      "source": [
        "# Standardisation des données (centrée-réduite)\n",
        "# (X - moyenne(X)) / ecart_type(X)\n",
        "\n",
        "std = StandardScaler()\n",
        "xtrain_std = std.fit_transform(xtrain)\n",
        "xtest_std = std.transform(xtest)"
      ],
      "execution_count": 0,
      "outputs": [
        {
          "output_type": "stream",
          "text": [
            "/usr/local/lib/python3.6/dist-packages/sklearn/preprocessing/data.py:625: DataConversionWarning: Data with input dtype int64, float64 were all converted to float64 by StandardScaler.\n",
            "  return self.partial_fit(X, y)\n",
            "/usr/local/lib/python3.6/dist-packages/sklearn/base.py:462: DataConversionWarning: Data with input dtype int64, float64 were all converted to float64 by StandardScaler.\n",
            "  return self.fit(X, **fit_params).transform(X)\n",
            "/usr/local/lib/python3.6/dist-packages/ipykernel_launcher.py:4: DataConversionWarning: Data with input dtype int64, float64 were all converted to float64 by StandardScaler.\n",
            "  after removing the cwd from sys.path.\n"
          ],
          "name": "stderr"
        }
      ]
    },
    {
      "metadata": {
        "id": "V_5fVy-4PUXQ",
        "colab_type": "code",
        "outputId": "4f818743-0964-4d5c-f9e5-e3d75ae982c2",
        "colab": {
          "base_uri": "https://localhost:8080/",
          "height": 69
        }
      },
      "cell_type": "code",
      "source": [
        "print('Jeu d\\'apprentissage : \\nDonnées réduites ?', np.allclose(np.std(xtrain_std, axis=0), 1,rtol=1e-05, atol=1e-08) )\n",
        "print('Données centrées ?', np.allclose(np.mean(xtrain_std, axis=0), 0,rtol=1e-05, atol=1e-08)  )"
      ],
      "execution_count": 0,
      "outputs": [
        {
          "output_type": "stream",
          "text": [
            "Jeu d'apprentissage : \n",
            "Données réduites ? True\n",
            "Données centrées ? True\n"
          ],
          "name": "stdout"
        }
      ]
    },
    {
      "metadata": {
        "id": "OVD9yKpzQplP",
        "colab_type": "text"
      },
      "cell_type": "markdown",
      "source": [
        "### Modélisation"
      ]
    },
    {
      "metadata": {
        "id": "aw224mbuQrm0",
        "colab_type": "text"
      },
      "cell_type": "markdown",
      "source": [
        "#### Split jeu d'apprentissage / jeu de test\n",
        "\n",
        "Il est préconisé dans le rapport [1] de maximiser le mélange des données. Afin de réaliser cette opération et de conserver le ratio d'origine entre la classe 1 et 0, la fonction StratifiedShuffleSplit de sklearn est utilisée."
      ]
    },
    {
      "metadata": {
        "id": "BG6a4rjuyUc-",
        "colab_type": "code",
        "colab": {}
      },
      "cell_type": "code",
      "source": [
        "sss = StratifiedShuffleSplit(n_splits=5, test_size=0.1, random_state=2)\n",
        "\n",
        "n_train = len(xtrain_std)\n",
        "xtrain_lite = xtrain_std[0:n_train, :]\n",
        "ytrain_lite = np.array(ytrain[0:n_train])\n",
        "\n",
        "#n_val = 500000\n",
        "#xval = xtrain_std[n_train+1:n_train+n_val,:]\n",
        "#yval = np.array(ytrain[n_train+1:n_train+n_val])\n",
        "\n",
        "for train_index, test_index in itertools.islice(sss.split(xtrain_lite, ytrain_lite), 1):\n",
        "#  print(\"TRAIN:\", train_index, \"TEST:\", test_index)\n",
        "  xtrain_strat, xtest_strat = xtrain_lite[train_index,:], xtrain_lite[test_index,:]\n",
        "  ytrain_strat, ytest_strat = ytrain_lite[train_index], ytrain_lite[test_index]"
      ],
      "execution_count": 0,
      "outputs": []
    },
    {
      "metadata": {
        "id": "7fiBFpeHSCeD",
        "colab_type": "text"
      },
      "cell_type": "markdown",
      "source": [
        "#### Définition du réseau de neuronne \"full-connexion\" ou perceptron multi-couche\n",
        "\n",
        "Comme préconisé dans le rapport [1], les poids sont initialisés selon une distribution gaussiene.\n",
        "L'ordre de grandeur du nombre de neurone a été défini depuis la formule :\n",
        "\n",
        "\n",
        "Nh=Ns(α∗(Ni+No))\n",
        "\n",
        "Ni= nombre de neurone d'entrée.  \n",
        "No = nombre de neurone de sortie.  \n",
        "Ns = nombre d'échantillon dans le jeu d'apprentissage.  \n",
        "α = coefficient arbitraire entre 2-10.  \n",
        "\n",
        "Le drop permet de rendre le modèle plus généralisable en désactivant un certain nombre de neurone aléatoirement à chaque batch."
      ]
    },
    {
      "metadata": {
        "id": "lwn1HHQEyi3G",
        "colab_type": "code",
        "colab": {}
      },
      "cell_type": "code",
      "source": [
        "# Dimension of input layer (first layer)\n",
        "input_dim = xtrain_strat.shape[1]\n",
        "\n",
        "# create model\n",
        "# Output layer remains one, because it's a binary classification\n",
        "model = Sequential()\n",
        "\n",
        "model.add(Dense(units=3000, input_dim=input_dim, kernel_initializer='RandomNormal', activation='relu', name='Input_layer'))\n",
        "model.add(Dropout(0.1, seed=seed))\n",
        "\n",
        "model.add(Dense(units=3000, activation='relu', name='Hidden_layer_2'))\n",
        "model.add(Dropout(0.1, seed=seed))\n",
        "\n",
        "model.add(Dense(1, activation='sigmoid', name='Classification_layer'))"
      ],
      "execution_count": 0,
      "outputs": []
    },
    {
      "metadata": {
        "id": "5ATigyKrVJFJ",
        "colab_type": "code",
        "outputId": "3b546894-5163-4e5a-acaf-31e011763f2e",
        "colab": {
          "base_uri": "https://localhost:8080/",
          "height": 635
        }
      },
      "cell_type": "code",
      "source": [
        "SVG(model_to_dot(model, show_shapes=True, show_layer_names=True, rankdir='TB').create(prog='dot', format='svg'))"
      ],
      "execution_count": 0,
      "outputs": [
        {
          "output_type": "execute_result",
          "data": {
            "text/plain": [
              "<IPython.core.display.SVG object>"
            ],
            "image/svg+xml": "<svg height=\"460pt\" viewBox=\"0.00 0.00 332.00 460.00\" width=\"332pt\" xmlns=\"http://www.w3.org/2000/svg\" xmlns:xlink=\"http://www.w3.org/1999/xlink\">\n<g class=\"graph\" id=\"graph0\" transform=\"scale(1 1) rotate(0) translate(4 456)\">\n<title>G</title>\n<polygon fill=\"#ffffff\" points=\"-4,4 -4,-456 328,-456 328,4 -4,4\" stroke=\"transparent\"/>\n<!-- 140614936058624 -->\n<g class=\"node\" id=\"node1\">\n<title>140614936058624</title>\n<polygon fill=\"none\" points=\"23,-332.5 23,-378.5 301,-378.5 301,-332.5 23,-332.5\" stroke=\"#000000\"/>\n<text fill=\"#000000\" font-family=\"Times,serif\" font-size=\"14.00\" text-anchor=\"middle\" x=\"85.5\" y=\"-351.8\">Input_layer: Dense</text>\n<polyline fill=\"none\" points=\"148,-332.5 148,-378.5 \" stroke=\"#000000\"/>\n<text fill=\"#000000\" font-family=\"Times,serif\" font-size=\"14.00\" text-anchor=\"middle\" x=\"177\" y=\"-363.3\">input:</text>\n<polyline fill=\"none\" points=\"148,-355.5 206,-355.5 \" stroke=\"#000000\"/>\n<text fill=\"#000000\" font-family=\"Times,serif\" font-size=\"14.00\" text-anchor=\"middle\" x=\"177\" y=\"-340.3\">output:</text>\n<polyline fill=\"none\" points=\"206,-332.5 206,-378.5 \" stroke=\"#000000\"/>\n<text fill=\"#000000\" font-family=\"Times,serif\" font-size=\"14.00\" text-anchor=\"middle\" x=\"253.5\" y=\"-363.3\">(None, 36)</text>\n<polyline fill=\"none\" points=\"206,-355.5 301,-355.5 \" stroke=\"#000000\"/>\n<text fill=\"#000000\" font-family=\"Times,serif\" font-size=\"14.00\" text-anchor=\"middle\" x=\"253.5\" y=\"-340.3\">(None, 3000)</text>\n</g>\n<!-- 140614953539904 -->\n<g class=\"node\" id=\"node2\">\n<title>140614953539904</title>\n<polygon fill=\"none\" points=\"18.5,-249.5 18.5,-295.5 305.5,-295.5 305.5,-249.5 18.5,-249.5\" stroke=\"#000000\"/>\n<text fill=\"#000000\" font-family=\"Times,serif\" font-size=\"14.00\" text-anchor=\"middle\" x=\"85.5\" y=\"-268.8\">dropout_1: Dropout</text>\n<polyline fill=\"none\" points=\"152.5,-249.5 152.5,-295.5 \" stroke=\"#000000\"/>\n<text fill=\"#000000\" font-family=\"Times,serif\" font-size=\"14.00\" text-anchor=\"middle\" x=\"181.5\" y=\"-280.3\">input:</text>\n<polyline fill=\"none\" points=\"152.5,-272.5 210.5,-272.5 \" stroke=\"#000000\"/>\n<text fill=\"#000000\" font-family=\"Times,serif\" font-size=\"14.00\" text-anchor=\"middle\" x=\"181.5\" y=\"-257.3\">output:</text>\n<polyline fill=\"none\" points=\"210.5,-249.5 210.5,-295.5 \" stroke=\"#000000\"/>\n<text fill=\"#000000\" font-family=\"Times,serif\" font-size=\"14.00\" text-anchor=\"middle\" x=\"258\" y=\"-280.3\">(None, 3000)</text>\n<polyline fill=\"none\" points=\"210.5,-272.5 305.5,-272.5 \" stroke=\"#000000\"/>\n<text fill=\"#000000\" font-family=\"Times,serif\" font-size=\"14.00\" text-anchor=\"middle\" x=\"258\" y=\"-257.3\">(None, 3000)</text>\n</g>\n<!-- 140614936058624&#45;&gt;140614953539904 -->\n<g class=\"edge\" id=\"edge2\">\n<title>140614936058624-&gt;140614953539904</title>\n<path d=\"M162,-332.3799C162,-324.1745 162,-314.7679 162,-305.8786\" fill=\"none\" stroke=\"#000000\"/>\n<polygon fill=\"#000000\" points=\"165.5001,-305.784 162,-295.784 158.5001,-305.784 165.5001,-305.784\" stroke=\"#000000\"/>\n</g>\n<!-- 140614953538224 -->\n<g class=\"node\" id=\"node3\">\n<title>140614953538224</title>\n<polygon fill=\"none\" points=\"9.5,-166.5 9.5,-212.5 314.5,-212.5 314.5,-166.5 9.5,-166.5\" stroke=\"#000000\"/>\n<text fill=\"#000000\" font-family=\"Times,serif\" font-size=\"14.00\" text-anchor=\"middle\" x=\"85.5\" y=\"-185.8\">Hidden_layer_2: Dense</text>\n<polyline fill=\"none\" points=\"161.5,-166.5 161.5,-212.5 \" stroke=\"#000000\"/>\n<text fill=\"#000000\" font-family=\"Times,serif\" font-size=\"14.00\" text-anchor=\"middle\" x=\"190.5\" y=\"-197.3\">input:</text>\n<polyline fill=\"none\" points=\"161.5,-189.5 219.5,-189.5 \" stroke=\"#000000\"/>\n<text fill=\"#000000\" font-family=\"Times,serif\" font-size=\"14.00\" text-anchor=\"middle\" x=\"190.5\" y=\"-174.3\">output:</text>\n<polyline fill=\"none\" points=\"219.5,-166.5 219.5,-212.5 \" stroke=\"#000000\"/>\n<text fill=\"#000000\" font-family=\"Times,serif\" font-size=\"14.00\" text-anchor=\"middle\" x=\"267\" y=\"-197.3\">(None, 3000)</text>\n<polyline fill=\"none\" points=\"219.5,-189.5 314.5,-189.5 \" stroke=\"#000000\"/>\n<text fill=\"#000000\" font-family=\"Times,serif\" font-size=\"14.00\" text-anchor=\"middle\" x=\"267\" y=\"-174.3\">(None, 3000)</text>\n</g>\n<!-- 140614953539904&#45;&gt;140614953538224 -->\n<g class=\"edge\" id=\"edge3\">\n<title>140614953539904-&gt;140614953538224</title>\n<path d=\"M162,-249.3799C162,-241.1745 162,-231.7679 162,-222.8786\" fill=\"none\" stroke=\"#000000\"/>\n<polygon fill=\"#000000\" points=\"165.5001,-222.784 162,-212.784 158.5001,-222.784 165.5001,-222.784\" stroke=\"#000000\"/>\n</g>\n<!-- 140614953538560 -->\n<g class=\"node\" id=\"node4\">\n<title>140614953538560</title>\n<polygon fill=\"none\" points=\"18.5,-83.5 18.5,-129.5 305.5,-129.5 305.5,-83.5 18.5,-83.5\" stroke=\"#000000\"/>\n<text fill=\"#000000\" font-family=\"Times,serif\" font-size=\"14.00\" text-anchor=\"middle\" x=\"85.5\" y=\"-102.8\">dropout_2: Dropout</text>\n<polyline fill=\"none\" points=\"152.5,-83.5 152.5,-129.5 \" stroke=\"#000000\"/>\n<text fill=\"#000000\" font-family=\"Times,serif\" font-size=\"14.00\" text-anchor=\"middle\" x=\"181.5\" y=\"-114.3\">input:</text>\n<polyline fill=\"none\" points=\"152.5,-106.5 210.5,-106.5 \" stroke=\"#000000\"/>\n<text fill=\"#000000\" font-family=\"Times,serif\" font-size=\"14.00\" text-anchor=\"middle\" x=\"181.5\" y=\"-91.3\">output:</text>\n<polyline fill=\"none\" points=\"210.5,-83.5 210.5,-129.5 \" stroke=\"#000000\"/>\n<text fill=\"#000000\" font-family=\"Times,serif\" font-size=\"14.00\" text-anchor=\"middle\" x=\"258\" y=\"-114.3\">(None, 3000)</text>\n<polyline fill=\"none\" points=\"210.5,-106.5 305.5,-106.5 \" stroke=\"#000000\"/>\n<text fill=\"#000000\" font-family=\"Times,serif\" font-size=\"14.00\" text-anchor=\"middle\" x=\"258\" y=\"-91.3\">(None, 3000)</text>\n</g>\n<!-- 140614953538224&#45;&gt;140614953538560 -->\n<g class=\"edge\" id=\"edge4\">\n<title>140614953538224-&gt;140614953538560</title>\n<path d=\"M162,-166.3799C162,-158.1745 162,-148.7679 162,-139.8786\" fill=\"none\" stroke=\"#000000\"/>\n<polygon fill=\"#000000\" points=\"165.5001,-139.784 162,-129.784 158.5001,-139.784 165.5001,-139.784\" stroke=\"#000000\"/>\n</g>\n<!-- 140614953330448 -->\n<g class=\"node\" id=\"node5\">\n<title>140614953330448</title>\n<polygon fill=\"none\" points=\"0,-.5 0,-46.5 324,-46.5 324,-.5 0,-.5\" stroke=\"#000000\"/>\n<text fill=\"#000000\" font-family=\"Times,serif\" font-size=\"14.00\" text-anchor=\"middle\" x=\"85.5\" y=\"-19.8\">Classification_layer: Dense</text>\n<polyline fill=\"none\" points=\"171,-.5 171,-46.5 \" stroke=\"#000000\"/>\n<text fill=\"#000000\" font-family=\"Times,serif\" font-size=\"14.00\" text-anchor=\"middle\" x=\"200\" y=\"-31.3\">input:</text>\n<polyline fill=\"none\" points=\"171,-23.5 229,-23.5 \" stroke=\"#000000\"/>\n<text fill=\"#000000\" font-family=\"Times,serif\" font-size=\"14.00\" text-anchor=\"middle\" x=\"200\" y=\"-8.3\">output:</text>\n<polyline fill=\"none\" points=\"229,-.5 229,-46.5 \" stroke=\"#000000\"/>\n<text fill=\"#000000\" font-family=\"Times,serif\" font-size=\"14.00\" text-anchor=\"middle\" x=\"276.5\" y=\"-31.3\">(None, 3000)</text>\n<polyline fill=\"none\" points=\"229,-23.5 324,-23.5 \" stroke=\"#000000\"/>\n<text fill=\"#000000\" font-family=\"Times,serif\" font-size=\"14.00\" text-anchor=\"middle\" x=\"276.5\" y=\"-8.3\">(None, 1)</text>\n</g>\n<!-- 140614953538560&#45;&gt;140614953330448 -->\n<g class=\"edge\" id=\"edge5\">\n<title>140614953538560-&gt;140614953330448</title>\n<path d=\"M162,-83.3799C162,-75.1745 162,-65.7679 162,-56.8786\" fill=\"none\" stroke=\"#000000\"/>\n<polygon fill=\"#000000\" points=\"165.5001,-56.784 162,-46.784 158.5001,-56.784 165.5001,-56.784\" stroke=\"#000000\"/>\n</g>\n<!-- 140614936059184 -->\n<g class=\"node\" id=\"node6\">\n<title>140614936059184</title>\n<polygon fill=\"none\" points=\"97.5,-415.5 97.5,-451.5 226.5,-451.5 226.5,-415.5 97.5,-415.5\" stroke=\"#000000\"/>\n<text fill=\"#000000\" font-family=\"Times,serif\" font-size=\"14.00\" text-anchor=\"middle\" x=\"162\" y=\"-429.8\">140614936059184</text>\n</g>\n<!-- 140614936059184&#45;&gt;140614936058624 -->\n<g class=\"edge\" id=\"edge1\">\n<title>140614936059184-&gt;140614936058624</title>\n<path d=\"M162,-415.4092C162,-407.4308 162,-397.795 162,-388.606\" fill=\"none\" stroke=\"#000000\"/>\n<polygon fill=\"#000000\" points=\"165.5001,-388.5333 162,-378.5333 158.5001,-388.5334 165.5001,-388.5333\" stroke=\"#000000\"/>\n</g>\n</g>\n</svg>"
          },
          "metadata": {
            "tags": []
          },
          "execution_count": 20
        }
      ]
    },
    {
      "metadata": {
        "id": "PdEQBEX6WfyN",
        "colab_type": "text"
      },
      "cell_type": "markdown",
      "source": [
        "#### Prédiction\n",
        " - Une validation croisée manuelle a permis de déterminer que la fonction d'optimisation \"Adam\" ainsi que le taux d'apprentissage par défaut (lr=0.001) sont  efficaces dans notre situation.\n",
        " - La fonction de coût \"binary_crossentropy\" est pertinente dans le cas de la classification binaire.  \n",
        " - La métrique \"accuracy\" est imposé par l'énoncé."
      ]
    },
    {
      "metadata": {
        "id": "vEgC2SLP3VvD",
        "colab_type": "code",
        "outputId": "0f34293d-980b-4e80-8539-d0f528e9712c",
        "colab": {
          "base_uri": "https://localhost:8080/",
          "height": 193
        }
      },
      "cell_type": "code",
      "source": [
        "# Compile model\n",
        "\n",
        "from keras import optimizers\n",
        "\n",
        "optim = optimizers.Adam()\n",
        "model.compile(loss='binary_crossentropy', optimizer=optim, metrics=['accuracy'])\n",
        "\n",
        "xtrain_fit = xtrain_strat\n",
        "ytrain_fit = ytrain_strat\n",
        "\n",
        "xtest_fit = xtest_strat\n",
        "ytest_fit = ytest_strat\n",
        "\n",
        "# Evaluate model with standardized dataset\n",
        "history = model.fit(xtrain_fit, ytrain_fit, epochs=10, batch_size=200, verbose=1, validation_data = (xtest_fit, ytest_fit), shuffle=0)\n",
        "print('------- END -------')"
      ],
      "execution_count": 0,
      "outputs": [
        {
          "output_type": "stream",
          "text": [
            "Train on 4962623 samples, validate on 551403 samples\n",
            "Epoch 1/10\n",
            "4962623/4962623 [==============================] - 927s 187us/step - loss: 0.0497 - acc: 0.9816 - val_loss: 0.0437 - val_acc: 0.9837\n",
            "Epoch 2/10\n",
            "4962623/4962623 [==============================] - 924s 186us/step - loss: 0.0439 - acc: 0.9837 - val_loss: 0.0423 - val_acc: 0.9843\n",
            "Epoch 3/10\n",
            "4962623/4962623 [==============================] - 923s 186us/step - loss: 0.0421 - acc: 0.9843 - val_loss: 0.0409 - val_acc: 0.9849\n",
            "Epoch 4/10\n",
            "2411100/4962623 [=============>................] - ETA: 7:48 - loss: 0.0412 - acc: 0.9846Buffered data was truncated after reaching the output size limit."
          ],
          "name": "stdout"
        }
      ]
    },
    {
      "metadata": {
        "id": "gN93vH37WOGz",
        "colab_type": "code",
        "colab": {}
      },
      "cell_type": "code",
      "source": [
        "# Evaluation finale du modèle sur un jeu de données jamais utilisé\n",
        "model.evaluate(xval, yval)"
      ],
      "execution_count": 0,
      "outputs": []
    },
    {
      "metadata": {
        "id": "AzFB9IkYV98j",
        "colab_type": "text"
      },
      "cell_type": "markdown",
      "source": [
        "#### Courbe d'apprentissage"
      ]
    },
    {
      "metadata": {
        "id": "5jSEiUAhV4Sv",
        "colab_type": "code",
        "colab": {}
      },
      "cell_type": "code",
      "source": [
        "plt.figure(figsize=(10,6))\n",
        "\n",
        "# Plot training & validation accuracy values\n",
        "plt.plot(history.history['acc'])\n",
        "plt.plot(history.history['val_acc'])\n",
        "plt.title('Model accuracy')\n",
        "plt.ylabel('Accuracy')\n",
        "plt.xlabel('Epoch')\n",
        "plt.legend(['Train', 'Test'], loc='upper left')\n",
        "plt.show()\n",
        "\n",
        "# Plot training & validation loss values\n",
        "plt.figure(figsize=(10,6))\n",
        "plt.plot(history.history['loss'])\n",
        "plt.plot(history.history['val_loss'])\n",
        "plt.title('Model loss')\n",
        "plt.ylabel('Loss')\n",
        "plt.xlabel('Epoch')\n",
        "plt.legend(['Train', 'Test'], loc='upper left')\n",
        "plt.show()"
      ],
      "execution_count": 0,
      "outputs": []
    },
    {
      "metadata": {
        "id": "Om_ZCIJC3gVs",
        "colab_type": "code",
        "colab": {}
      },
      "cell_type": "code",
      "source": [
        "# save the model\n",
        "#filename = 'RNN_epochs10_batch100_RandomNormal_strat_boosted_adam.sav'\n",
        "#joblib.dump(model, filename)\n",
        "\n",
        "##model = joblib.load('RNN_epochs10_batch100_RandomNormal_strat_boosted_adam.sav') "
      ],
      "execution_count": 0,
      "outputs": []
    },
    {
      "metadata": {
        "id": "bUiE7ZMdXjmj",
        "colab_type": "code",
        "colab": {}
      },
      "cell_type": "code",
      "source": [
        "# Prédiction sur le jeu de tes et sauvegarde\n",
        "xtest_std = std.transform(xtest)\n",
        "\n",
        "ytest = model.predict(xtest_std)\n",
        "print(ytest.shape)\n",
        "np.savetxt('ytest_challenge_student.csv', ytest, fmt = '%1.0d', delimiter=',')"
      ],
      "execution_count": 0,
      "outputs": []
    },
    {
      "metadata": {
        "id": "UXqfsQ9HdTZt",
        "colab_type": "text"
      },
      "cell_type": "markdown",
      "source": [
        "#### Conclustion\n",
        "\n",
        "Il y a une importance primordiale à entrainer le modèle sur tout le jeu de données pour mutliplier au maximum les pairs d'image A et B. En prenant plus de temps pour entrainer le modèle, on pourrait augmenter le jeu d'entrainement au jeu entier et diminuer la taille du batch.\n",
        "Le nombre d'epoch semble suffisant car la précision converge."
      ]
    }
  ]
}